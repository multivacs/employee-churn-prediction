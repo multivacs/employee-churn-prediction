{
 "cells": [
  {
   "cell_type": "markdown",
   "id": "8898e80c",
   "metadata": {},
   "source": [
    "# Exploratory Data Analysis: Employee Churn"
   ]
  },
  {
   "cell_type": "markdown",
   "id": "28fcd6c7",
   "metadata": {},
   "source": [
    "## 1. Introduction"
   ]
  },
  {
   "cell_type": "markdown",
   "id": "60c4ae02",
   "metadata": {},
   "source": [
    "> In this notebook, we perform an initial exploratory data analysis (EDA) on the Employee Churn dataset. This step is crucial for understanding the structure, content, and quality of the data, and to formulate early hypotheses.\n",
    "\n",
    "Objectives:\n",
    "- Understand the structure of the data\n",
    "- Detect missing values and data types\n",
    "- Identify next steps to perform in data cleaning\n",
    "- Generate descriptive statistics\n",
    "- Explore distributions and potential relationships"
   ]
  },
  {
   "cell_type": "markdown",
   "id": "3e80abbd",
   "metadata": {},
   "source": [
    "## 2. Load Libraries"
   ]
  },
  {
   "cell_type": "code",
   "execution_count": null,
   "id": "1186f141",
   "metadata": {},
   "outputs": [],
   "source": [
    "# Standard libraries\n",
    "import matplotlib.pyplot as plt\n",
    "import numpy as numpy\n",
    "import pandas as pd\n",
    "from pathlib import Path\n",
    "import sys\n",
    "\n",
    "# Add the project root to sys.path\n",
    "project_root = Path.cwd().parent  # from notebooks/ to root\n",
    "sys.path.append(str(project_root))\n",
    "\n",
    "# Custom modules\n",
    "from src.config import RAW_EMPLOYEE_CHURN_FILE\n",
    "from src.data.load_data import load_data\n",
    "\n",
    "%matplotlib inline"
   ]
  },
  {
   "cell_type": "markdown",
   "id": "c5054f92",
   "metadata": {},
   "source": [
    "## 3. Load Data"
   ]
  },
  {
   "cell_type": "code",
   "execution_count": null,
   "id": "4e3c7ae5",
   "metadata": {},
   "outputs": [],
   "source": [
    "df = load_data(RAW_EMPLOYEE_CHURN_FILE)\n",
    "df"
   ]
  },
  {
   "cell_type": "markdown",
   "id": "4c5d7a18",
   "metadata": {},
   "source": [
    "## 4. Explore dataset"
   ]
  },
  {
   "cell_type": "code",
   "execution_count": null,
   "id": "62f2b783",
   "metadata": {},
   "outputs": [],
   "source": [
    "df.info()"
   ]
  },
  {
   "cell_type": "markdown",
   "id": "721b8ce5",
   "metadata": {},
   "source": [
    "## 5. Data types and missing values"
   ]
  },
  {
   "cell_type": "code",
   "execution_count": null,
   "id": "ac24a633",
   "metadata": {},
   "outputs": [],
   "source": [
    "# Missing values\n",
    "df.isna().sum().sort_values(ascending = False)"
   ]
  },
  {
   "cell_type": "markdown",
   "id": "4ecdff9a",
   "metadata": {},
   "source": [
    "## 6. Descriptive statistics"
   ]
  },
  {
   "cell_type": "markdown",
   "id": "076c46d1",
   "metadata": {},
   "source": [
    "## 7. Analysis\n",
    "\n",
    "### 7.1 Categorical features\n",
    "\n",
    "### 7.2 Numerical features"
   ]
  },
  {
   "cell_type": "markdown",
   "id": "a64756b4",
   "metadata": {},
   "source": [
    "## 8. Insights and relations"
   ]
  },
  {
   "cell_type": "markdown",
   "id": "03387d65",
   "metadata": {},
   "source": [
    "## 9. Data Quality notes\n",
    "\n",
    "Missing Data:\n",
    "- Consider imputing X with median or model-based imputation\n",
    "- Y may be dropped or simplified (e.g., extract from Z)\n",
    "- YY can be filled with mode\n",
    "\n",
    "Outliers:\n",
    "- ZZ shows significant outliers. Might need log-transform or cap."
   ]
  },
  {
   "cell_type": "markdown",
   "id": "ce413ed1",
   "metadata": {},
   "source": [
    "## 10. Next steps\n",
    "- Handle missing values\n",
    "- Feature engineering (e.g., Title from Name, FamilySize)\n",
    "- Correlation analysis\n",
    "- Prepare for modeling (data cleaning, encoding, scaling)"
   ]
  },
  {
   "cell_type": "markdown",
   "id": "e426788a",
   "metadata": {},
   "source": [
    "## 📌 Summary\n",
    "- Data loaded successfully; key features explored\n",
    "- Identified missing values and basic distributions\n",
    "- Clear early patterns: gender and class impact survival\n",
    "- Several data quality issues flagged"
   ]
  },
  {
   "cell_type": "markdown",
   "id": "4109997f",
   "metadata": {},
   "source": [
    "## Save processed data"
   ]
  }
 ],
 "metadata": {
  "kernelspec": {
   "display_name": "employee-churn-prediction",
   "language": "python",
   "name": "python3"
  },
  "language_info": {
   "codemirror_mode": {
    "name": "ipython",
    "version": 3
   },
   "file_extension": ".py",
   "mimetype": "text/x-python",
   "name": "python",
   "nbconvert_exporter": "python",
   "pygments_lexer": "ipython3",
   "version": "3.11.13"
  }
 },
 "nbformat": 4,
 "nbformat_minor": 5
}
